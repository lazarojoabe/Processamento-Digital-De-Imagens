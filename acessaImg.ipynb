{
 "cells": [
  {
   "cell_type": "code",
   "execution_count": 12,
   "metadata": {},
   "outputs": [
    {
     "name": "stdout",
     "output_type": "stream",
     "text": [
      "Imagem lida com sucesso: C:/Users/lazar/OneDrive/Documentos/Iniciacao Cientifica/Processamento-Digital-De-Imagens/CgToll10B\\CgToll10B_RabbitTube546_ Dorsal647_03_06_2019.lif_Series009_z0_ch00.tif\n",
      "Imagem lida com sucesso: C:/Users/lazar/OneDrive/Documentos/Iniciacao Cientifica/Processamento-Digital-De-Imagens/CgToll10B\\CgToll10B_RabbitTube546_ Dorsal647_03_06_2019.lif_Series009_z0_ch01.tif\n",
      "Imagem lida com sucesso: C:/Users/lazar/OneDrive/Documentos/Iniciacao Cientifica/Processamento-Digital-De-Imagens/CgToll10B\\CgToll10B_RabbitTube546_ Dorsal647_03_06_2019.lif_Series009_z0_ch02.tif\n",
      "Imagem lida com sucesso: C:/Users/lazar/OneDrive/Documentos/Iniciacao Cientifica/Processamento-Digital-De-Imagens/CgToll10B\\CgToll10B_RabbitTube546_ Dorsal647_03_06_2019.lif_Series011_z0_ch00.tif\n",
      "Imagem lida com sucesso: C:/Users/lazar/OneDrive/Documentos/Iniciacao Cientifica/Processamento-Digital-De-Imagens/CgToll10B\\CgToll10B_RabbitTube546_ Dorsal647_03_06_2019.lif_Series011_z0_ch01.tif\n",
      "Imagem lida com sucesso: C:/Users/lazar/OneDrive/Documentos/Iniciacao Cientifica/Processamento-Digital-De-Imagens/CgToll10B\\CgToll10B_RabbitTube546_ Dorsal647_03_06_2019.lif_Series011_z0_ch02.tif\n",
      "Imagem lida com sucesso: C:/Users/lazar/OneDrive/Documentos/Iniciacao Cientifica/Processamento-Digital-De-Imagens/CgToll10B\\CgToll10B_RabbitTube546_ Dorsal647_03_06_2019.lif_Series027_z0_ch00.tif\n",
      "Imagem lida com sucesso: C:/Users/lazar/OneDrive/Documentos/Iniciacao Cientifica/Processamento-Digital-De-Imagens/CgToll10B\\CgToll10B_RabbitTube546_ Dorsal647_03_06_2019.lif_Series027_z0_ch01.tif\n",
      "Imagem lida com sucesso: C:/Users/lazar/OneDrive/Documentos/Iniciacao Cientifica/Processamento-Digital-De-Imagens/CgToll10B\\CgToll10B_RabbitTube546_ Dorsal647_03_06_2019.lif_Series027_z0_ch02.tif\n"
     ]
    }
   ],
   "source": [
    "import os\n",
    "import cv2\n",
    "import matplotlib.pyplot as plt\n",
    "\n",
    "\n",
    "pasta_origem = \"C:/Users/lazar/OneDrive/Documentos/Iniciacao Cientifica/Processamento-Digital-De-Imagens/CgToll10B\"\n",
    "\n",
    "pasta_destino = \"C:/Users/lazar/OneDrive/Documentos/Iniciacao Cientifica/Processamento-Digital-De-Imagens/suavizacao_e_otsu\"\n",
    "\n",
    "arq = os.listdir(pasta_origem)\n",
    "\n",
    "for i in arq:\n",
    "    #verificando se o que está sendo lido é uma imagem desejada\n",
    "    if i.lower().startswith(('cgtoll10b')):\n",
    "        caminho_origem = os.path.join(pasta_origem, i)\n",
    "        img = cv2.imread(caminho_origem, cv2.IMREAD_GRAYSCALE)\n",
    "        if img is None:\n",
    "            print(f\"Erro ao ler a imagem: {caminho_origem}\")\n",
    "        else:\n",
    "            print(f\"Imagem lida com sucesso: {caminho_origem}\")\n",
    "\n",
    "            gaussiana = cv2.GaussianBlur(img, (3, 3), 1)\n",
    "            _, otsu = cv2.threshold(gaussiana, 175, 255, cv2.THRESH_BINARY + cv2.THRESH_OTSU)\n",
    "\n",
    "            cv2.imwrite(os.path.join(pasta_destino, f\"{i}\"), otsu)\n"
   ]
  }
 ],
 "metadata": {
  "kernelspec": {
   "display_name": "Python 3",
   "language": "python",
   "name": "python3"
  },
  "language_info": {
   "codemirror_mode": {
    "name": "ipython",
    "version": 3
   },
   "file_extension": ".py",
   "mimetype": "text/x-python",
   "name": "python",
   "nbconvert_exporter": "python",
   "pygments_lexer": "ipython3",
   "version": "3.11.5"
  }
 },
 "nbformat": 4,
 "nbformat_minor": 2
}
